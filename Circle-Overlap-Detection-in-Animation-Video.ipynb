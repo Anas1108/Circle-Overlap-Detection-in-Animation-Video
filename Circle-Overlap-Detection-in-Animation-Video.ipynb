{
 "cells": [
  {
   "cell_type": "markdown",
   "id": "c822886a",
   "metadata": {},
   "source": [
    "# Question"
   ]
  },
  {
   "cell_type": "code",
   "execution_count": 43,
   "id": "b1da2031",
   "metadata": {},
   "outputs": [
    {
     "name": "stdout",
     "output_type": "stream",
     "text": [
      "Enter any key to continue\n",
      "Video Object Released.\n"
     ]
    }
   ],
   "source": [
    "cap = cv2.VideoCapture('animation.mp4')\n",
    "y=0\n",
    "try:\n",
    "    if (cap.isOpened()== False): \n",
    "        raise Exception('Error opening video stream or file')\n",
    "    fps = cap.get(cv2.CAP_PROP_FPS)\n",
    "    fps = int(fps)\n",
    "    # Read until video is completed\n",
    "    while(cap.isOpened()):\n",
    "        ret, frame = cap.read()\n",
    "        if ret == True:\n",
    "            gray = cv2.cvtColor(frame,cv2.COLOR_BGR2GRAY)\n",
    "            blur = cv2.GaussianBlur(gray, (5,5), 0)\n",
    "            # create a binary thresholded image\n",
    "            _, binary = cv2.threshold(blur, 165, 240, cv2.THRESH_BINARY_INV)\n",
    "            # find the contours from the thresholded image\n",
    "            contours, hierarchy = cv2.findContours(binary, cv2.RETR_TREE, cv2.CHAIN_APPROX_SIMPLE)\n",
    "            for i in range(len(contours)):\n",
    "                M = cv2.moments(contours[i])\n",
    "                prevY=y\n",
    "                x = int(M[\"m10\"] / M[\"m00\"])\n",
    "                y = int(M[\"m01\"] / M[\"m00\"])\n",
    "                cv2.circle(frame, (x, y), 5, (0, 255, 0), -1)\n",
    "                cv2.drawContours(frame, contours,i,(255,0,0),2)\n",
    "            cv2.imshow('Video',frame)\n",
    "            if(prevY==185 and y==184):\n",
    "                print(\"Enter any key to continue\")\n",
    "                cv2.waitKey(0)\n",
    "            # Press Q on keyboard to  exit\n",
    "            if cv2.waitKey(fps) & 0xFF == ord('q'):\n",
    "                print(\"Enter q to exit\")\n",
    "                break\n",
    "        else:\n",
    "            break\n",
    "            cv2.destroyAllWindows()\n",
    "except Exception as x:\n",
    "      print(x)\n",
    "finally:\n",
    "    cv2.destroyAllWindows()\n",
    "    cap.release()\n",
    "    print('Video Object Released.')"
   ]
  }
 ],
 "metadata": {
  "kernelspec": {
   "display_name": "Python 3",
   "language": "python",
   "name": "python3"
  },
  "language_info": {
   "codemirror_mode": {
    "name": "ipython",
    "version": 3
   },
   "file_extension": ".py",
   "mimetype": "text/x-python",
   "name": "python",
   "nbconvert_exporter": "python",
   "pygments_lexer": "ipython3",
   "version": "3.8.8"
  }
 },
 "nbformat": 4,
 "nbformat_minor": 5
}
